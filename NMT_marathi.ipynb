{
  "nbformat": 4,
  "nbformat_minor": 0,
  "metadata": {
    "colab": {
      "provenance": []
    },
    "kernelspec": {
      "name": "python3",
      "display_name": "Python 3"
    },
    "accelerator": "GPU"
  },
  "cells": [
    {
      "cell_type": "code",
      "metadata": {
        "id": "gVDZ22N4F4_-"
      },
      "source": [
        "from attention import AttentionLayer"
      ],
      "execution_count": null,
      "outputs": []
    },
    {
      "cell_type": "code",
      "metadata": {
        "id": "AESHaivdF9UN"
      },
      "source": [
        "import pandas as pd\n",
        "from sklearn.model_selection import train_test_split\n",
        "import string\n",
        "from string import digits\n",
        "import re\n",
        "from sklearn.utils import shuffle\n",
        "from tensorflow.keras.preprocessing.sequence import pad_sequences\n",
        "from tensorflow.keras.layers import LSTM, Input, Dense,Embedding, Concatenate, TimeDistributed\n",
        "from tensorflow.keras.models import Model,load_model, model_from_json\n",
        "from tensorflow.keras.utils import plot_model\n",
        "from tensorflow.keras.preprocessing.text import one_hot, Tokenizer\n",
        "from tensorflow.keras.callbacks import EarlyStopping\n",
        "import pickle as pkl\n",
        "import numpy as np"
      ],
      "execution_count": null,
      "outputs": []
    },
    {
      "cell_type": "code",
      "metadata": {
        "id": "SrUPL-HqGMkr"
      },
      "source": [
        "with open('mar.txt','r') as f:\n",
        "  data = f.read()\n"
      ],
      "execution_count": null,
      "outputs": []
    },
    {
      "cell_type": "code",
      "metadata": {
        "id": "Ib7_4gUZGOiy"
      },
      "source": [
        "uncleaned_data_list = data.split('\\n')"
      ],
      "execution_count": null,
      "outputs": []
    },
    {
      "cell_type": "code",
      "metadata": {
        "id": "XKI3YKYxGQbx",
        "colab": {
          "base_uri": "https://localhost:8080/"
        },
        "outputId": "0f74d02c-7354-4c68-beef-2c4afb269365"
      },
      "source": [
        "len(uncleaned_data_list)"
      ],
      "execution_count": null,
      "outputs": [
        {
          "output_type": "execute_result",
          "data": {
            "text/plain": [
              "41029"
            ]
          },
          "metadata": {
            "tags": []
          },
          "execution_count": 6
        }
      ]
    },
    {
      "cell_type": "code",
      "metadata": {
        "id": "azORyGptGSDo"
      },
      "source": [
        "\n",
        "uncleaned_data_list = uncleaned_data_list[:41029]"
      ],
      "execution_count": null,
      "outputs": []
    },
    {
      "cell_type": "code",
      "metadata": {
        "id": "SS8IaCfSGTtU",
        "colab": {
          "base_uri": "https://localhost:8080/"
        },
        "outputId": "968d513a-b785-4698-8125-9b69e23ec021"
      },
      "source": [
        "len(uncleaned_data_list)"
      ],
      "execution_count": null,
      "outputs": [
        {
          "output_type": "execute_result",
          "data": {
            "text/plain": [
              "41029"
            ]
          },
          "metadata": {
            "tags": []
          },
          "execution_count": 8
        }
      ]
    },
    {
      "cell_type": "code",
      "metadata": {
        "colab": {
          "base_uri": "https://localhost:8080/",
          "height": 35
        },
        "id": "AeN_OHiNq4yQ",
        "outputId": "e6ce8eb2-5987-4976-c66f-6d97279ef911"
      },
      "source": [
        "uncleaned_data_list[1]"
      ],
      "execution_count": null,
      "outputs": [
        {
          "output_type": "execute_result",
          "data": {
            "application/vnd.google.colaboratory.intrinsic+json": {
              "type": "string"
            },
            "text/plain": [
              "'Run!\\tपळ!\\tCC-BY 2.0 (France) Attribution: tatoeba.org #906328 (papabear) & #3138217 (sabretou)'"
            ]
          },
          "metadata": {
            "tags": []
          },
          "execution_count": 10
        }
      ]
    },
    {
      "cell_type": "code",
      "metadata": {
        "id": "gpQTjwbwGVXQ"
      },
      "source": [
        "english_word = []\n",
        "marathi_word = []\n",
        "cleaned_data_list = []\n",
        "for word in uncleaned_data_list:\n",
        "  english_word.append(word.split('\\t')[:-2])\n",
        "  marathi_word.append(word.split('\\t')[-2:-1])"
      ],
      "execution_count": null,
      "outputs": []
    },
    {
      "cell_type": "code",
      "metadata": {
        "id": "e3u5tLR7GYu-",
        "colab": {
          "base_uri": "https://localhost:8080/"
        },
        "outputId": "755b591e-07d6-49bf-bc0b-c78ffe32666c"
      },
      "source": [
        "len(english_word), len(marathi_word)\n"
      ],
      "execution_count": null,
      "outputs": [
        {
          "output_type": "execute_result",
          "data": {
            "text/plain": [
              "(41029, 41029)"
            ]
          },
          "metadata": {
            "tags": []
          },
          "execution_count": 48
        }
      ]
    },
    {
      "cell_type": "code",
      "metadata": {
        "id": "hup-VkBqGa4z"
      },
      "source": [
        "language_data = pd.DataFrame(columns=['English','Marathi'])\n",
        "language_data['English'] = english_word\n",
        "language_data['Marathi'] = marathi_word"
      ],
      "execution_count": null,
      "outputs": []
    },
    {
      "cell_type": "code",
      "metadata": {
        "id": "BrTVdhzZGdSM"
      },
      "source": [
        "language_data.to_csv('language_data.csv', index=False)\n"
      ],
      "execution_count": null,
      "outputs": []
    },
    {
      "cell_type": "code",
      "metadata": {
        "id": "sutza6VYGfKc"
      },
      "source": [
        "language_data = pd.read_csv('language_data.csv')\n"
      ],
      "execution_count": null,
      "outputs": []
    },
    {
      "cell_type": "code",
      "metadata": {
        "id": "HSrVH0y3GguJ",
        "colab": {
          "base_uri": "https://localhost:8080/",
          "height": 202
        },
        "outputId": "531f9c98-2de6-4672-bee2-fb1383c1f63d"
      },
      "source": [
        "language_data.head()\n"
      ],
      "execution_count": null,
      "outputs": [
        {
          "output_type": "execute_result",
          "data": {
            "text/html": [
              "<div>\n",
              "<style scoped>\n",
              "    .dataframe tbody tr th:only-of-type {\n",
              "        vertical-align: middle;\n",
              "    }\n",
              "\n",
              "    .dataframe tbody tr th {\n",
              "        vertical-align: top;\n",
              "    }\n",
              "\n",
              "    .dataframe thead th {\n",
              "        text-align: right;\n",
              "    }\n",
              "</style>\n",
              "<table border=\"1\" class=\"dataframe\">\n",
              "  <thead>\n",
              "    <tr style=\"text-align: right;\">\n",
              "      <th></th>\n",
              "      <th>English</th>\n",
              "      <th>Marathi</th>\n",
              "    </tr>\n",
              "  </thead>\n",
              "  <tbody>\n",
              "    <tr>\n",
              "      <th>0</th>\n",
              "      <td>['Go.']</td>\n",
              "      <td>['जा.']</td>\n",
              "    </tr>\n",
              "    <tr>\n",
              "      <th>1</th>\n",
              "      <td>['Run!']</td>\n",
              "      <td>['पळ!']</td>\n",
              "    </tr>\n",
              "    <tr>\n",
              "      <th>2</th>\n",
              "      <td>['Run!']</td>\n",
              "      <td>['धाव!']</td>\n",
              "    </tr>\n",
              "    <tr>\n",
              "      <th>3</th>\n",
              "      <td>['Run!']</td>\n",
              "      <td>['पळा!']</td>\n",
              "    </tr>\n",
              "    <tr>\n",
              "      <th>4</th>\n",
              "      <td>['Run!']</td>\n",
              "      <td>['धावा!']</td>\n",
              "    </tr>\n",
              "  </tbody>\n",
              "</table>\n",
              "</div>"
            ],
            "text/plain": [
              "    English    Marathi\n",
              "0   ['Go.']    ['जा.']\n",
              "1  ['Run!']    ['पळ!']\n",
              "2  ['Run!']   ['धाव!']\n",
              "3  ['Run!']   ['पळा!']\n",
              "4  ['Run!']  ['धावा!']"
            ]
          },
          "metadata": {
            "tags": []
          },
          "execution_count": 52
        }
      ]
    },
    {
      "cell_type": "code",
      "metadata": {
        "id": "NxCNeNexGiQZ"
      },
      "source": [
        "english_text = language_data['English'].values\n",
        "marathi_text = language_data['Marathi'].values"
      ],
      "execution_count": null,
      "outputs": []
    },
    {
      "cell_type": "code",
      "metadata": {
        "id": "99etuBeOGlNq",
        "colab": {
          "base_uri": "https://localhost:8080/"
        },
        "outputId": "2cb4ff22-a444-43ea-b3a7-6d716bd16033"
      },
      "source": [
        "english_text[0], marathi_text[0]\n"
      ],
      "execution_count": null,
      "outputs": [
        {
          "output_type": "execute_result",
          "data": {
            "text/plain": [
              "(\"['Go.']\", \"['जा.']\")"
            ]
          },
          "metadata": {
            "tags": []
          },
          "execution_count": 54
        }
      ]
    },
    {
      "cell_type": "code",
      "metadata": {
        "id": "d3olaKJNGnTy",
        "colab": {
          "base_uri": "https://localhost:8080/"
        },
        "outputId": "55e4f1ca-07c7-44f4-86b1-18a03297f75d"
      },
      "source": [
        "len(english_text), len(marathi_text)\n"
      ],
      "execution_count": null,
      "outputs": [
        {
          "output_type": "execute_result",
          "data": {
            "text/plain": [
              "(41029, 41029)"
            ]
          },
          "metadata": {
            "tags": []
          },
          "execution_count": 55
        }
      ]
    },
    {
      "cell_type": "code",
      "metadata": {
        "id": "s4LN_hYGGo2n"
      },
      "source": [
        "english_text_ = [x.lower() for x in english_text]\n",
        "marathi_text_ = [x.lower() for x in marathi_text]"
      ],
      "execution_count": null,
      "outputs": []
    },
    {
      "cell_type": "code",
      "metadata": {
        "id": "pr5CfqTsGsiF"
      },
      "source": [
        "english_text_ = [re.sub(\"'\",'',x) for x in english_text_]\n",
        "marathi_text_ = [re.sub(\"'\",'',x) for x in marathi_text_]"
      ],
      "execution_count": null,
      "outputs": []
    },
    {
      "cell_type": "code",
      "metadata": {
        "id": "A6tuvUFiGxP5"
      },
      "source": [
        "def remove_punc(text_list):\n",
        "  table = str.maketrans('', '', string.punctuation)\n",
        "  removed_punc_text = []\n",
        "  for sent in text_list:\n",
        "    sentance = [w.translate(table) for w in sent.split(' ')]\n",
        "    removed_punc_text.append(' '.join(sentance))\n",
        "  return removed_punc_text\n",
        "english_text_ = remove_punc(english_text_)\n",
        "marathi_text_ = remove_punc(marathi_text_)"
      ],
      "execution_count": null,
      "outputs": []
    },
    {
      "cell_type": "code",
      "metadata": {
        "id": "tOlLIwBdGzo0"
      },
      "source": [
        "remove_digits = str.maketrans('', '', digits)\n",
        "removed_digits_text = []\n",
        "for sent in english_text_:\n",
        "  sentance = [w.translate(remove_digits) for w in sent.split(' ')]\n",
        "  removed_digits_text.append(' '.join(sentance))\n",
        "english_text_ = removed_digits_text\n",
        "\n",
        "# removing the digits from the marathi sentances\n",
        "marathi_text_ = [re.sub(\"[२३०८१५७९४६]\",\"\",x) for x in marathi_text_]\n",
        "marathi_text_ = [re.sub(\"[\\u200d]\",\"\",x) for x in marathi_text_]\n",
        "\n",
        "# removing the stating and ending whitespaces\n",
        "english_text_ = [x.strip() for x in english_text_]\n",
        "marathi_text_ = [x.strip() for x in marathi_text_]"
      ],
      "execution_count": null,
      "outputs": []
    },
    {
      "cell_type": "code",
      "metadata": {
        "id": "EwnF9056G1Wn"
      },
      "source": [
        "# removing the starting and ending whitespaces\n",
        "english_text_ = [x.strip() for x in english_text_]\n",
        "marathi_text_ = [x.strip() for x in marathi_text_]"
      ],
      "execution_count": null,
      "outputs": []
    },
    {
      "cell_type": "code",
      "metadata": {
        "id": "7LGnmEACG4fM"
      },
      "source": [
        "# Putting the start and end words in the marathi sentances\n",
        "marathi_text_ = [\"start \" + x + \" end\" for x in marathi_text_]"
      ],
      "execution_count": null,
      "outputs": []
    },
    {
      "cell_type": "code",
      "metadata": {
        "id": "37N5R59xG6Rb",
        "colab": {
          "base_uri": "https://localhost:8080/"
        },
        "outputId": "fd658ea4-2b70-468a-e3db-773476761e7d"
      },
      "source": [
        "# manipulated_marathi_text_\n",
        "marathi_text_[0], english_text_[0]"
      ],
      "execution_count": null,
      "outputs": [
        {
          "output_type": "execute_result",
          "data": {
            "text/plain": [
              "('start जा end', 'go')"
            ]
          },
          "metadata": {
            "tags": []
          },
          "execution_count": 62
        }
      ]
    },
    {
      "cell_type": "code",
      "metadata": {
        "id": "yIMWLghNG7qc",
        "colab": {
          "base_uri": "https://localhost:8080/"
        },
        "outputId": "ac137869-153c-4940-cef3-c8737a3dc08d"
      },
      "source": [
        "# manipulated_marathi_text_\n",
        "marathi_text_[0], english_text_[0]"
      ],
      "execution_count": null,
      "outputs": [
        {
          "output_type": "execute_result",
          "data": {
            "text/plain": [
              "('start जा end', 'go')"
            ]
          },
          "metadata": {
            "tags": []
          },
          "execution_count": 63
        }
      ]
    },
    {
      "cell_type": "code",
      "metadata": {
        "id": "e7tbAv_wG9Xj"
      },
      "source": [
        "\n",
        "X = english_text_\n",
        "Y = marathi_text_"
      ],
      "execution_count": null,
      "outputs": []
    },
    {
      "cell_type": "code",
      "metadata": {
        "id": "K_cSlHB_G_Fi",
        "colab": {
          "base_uri": "https://localhost:8080/"
        },
        "outputId": "caeb46a0-023e-4ffc-c29c-c31513370743"
      },
      "source": [
        "X_train, X_test, y_train, y_test = train_test_split(X,Y,test_size = 0.1)\n",
        "len(X_train),len(y_train), len(X_test), len(y_test)"
      ],
      "execution_count": null,
      "outputs": [
        {
          "output_type": "execute_result",
          "data": {
            "text/plain": [
              "(36926, 36926, 4103, 4103)"
            ]
          },
          "metadata": {
            "tags": []
          },
          "execution_count": 65
        }
      ]
    },
    {
      "cell_type": "code",
      "metadata": {
        "id": "ZIxnnLAUHGi6",
        "colab": {
          "base_uri": "https://localhost:8080/"
        },
        "outputId": "dfc00eca-c342-4be8-d772-7448817d094f"
      },
      "source": [
        "\n",
        "X_train[0], y_train[0]"
      ],
      "execution_count": null,
      "outputs": [
        {
          "output_type": "execute_result",
          "data": {
            "text/plain": [
              "('he has written many books about china',\n",
              " 'start त्याने चीनबद्दल भरपूर पुस्तकं लिहिली आहेत end')"
            ]
          },
          "metadata": {
            "tags": []
          },
          "execution_count": 66
        }
      ]
    },
    {
      "cell_type": "code",
      "metadata": {
        "id": "6KHSf9EVHJj-"
      },
      "source": [
        "\n",
        "def Max_length(data):\n",
        "  max_length_ = max([len(x.split(' ')) for x in data])\n",
        "  return max_length_\n",
        "\n",
        "#Training data\n",
        "max_length_english = Max_length(X_train)\n",
        "max_length_marathi = Max_length(y_train)\n",
        "\n",
        "#Test data\n",
        "max_length_english_test = Max_length(X_test)\n",
        "max_length_marathi_test = Max_length(y_test)"
      ],
      "execution_count": null,
      "outputs": []
    },
    {
      "cell_type": "code",
      "metadata": {
        "id": "Zi2m41meHNBh",
        "colab": {
          "base_uri": "https://localhost:8080/"
        },
        "outputId": "10174c41-4678-44b8-bf0f-2f37206143c8"
      },
      "source": [
        "max_length_marathi, max_length_english\n"
      ],
      "execution_count": null,
      "outputs": [
        {
          "output_type": "execute_result",
          "data": {
            "text/plain": [
              "(37, 35)"
            ]
          },
          "metadata": {
            "tags": []
          },
          "execution_count": 68
        }
      ]
    },
    {
      "cell_type": "code",
      "metadata": {
        "id": "-jWoD4HnHOyG"
      },
      "source": [
        "englishTokenizer = Tokenizer()\n",
        "englishTokenizer.fit_on_texts(X_train)\n",
        "Eword2index = englishTokenizer.word_index\n",
        "vocab_size_source = len(Eword2index) + 1\n",
        "\n",
        "X_train = englishTokenizer.texts_to_sequences(X_train)\n",
        "X_train = pad_sequences(X_train, maxlen=max_length_english, padding='post')\n",
        "\n",
        "X_test = englishTokenizer.texts_to_sequences(X_test)\n",
        "X_test = pad_sequences(X_test, maxlen = max_length_english, padding='post')\n"
      ],
      "execution_count": null,
      "outputs": []
    },
    {
      "cell_type": "code",
      "metadata": {
        "id": "e_XScLyNICD9"
      },
      "source": [
        "marathiTokenizer = Tokenizer()\n",
        "marathiTokenizer.fit_on_texts(y_train)\n",
        "Mword2index = marathiTokenizer.word_index\n",
        "vocab_size_target = len(Mword2index) + 1\n",
        "\n",
        "y_train = marathiTokenizer.texts_to_sequences(y_train)\n",
        "y_train = pad_sequences(y_train, maxlen=max_length_marathi, padding='post')\n",
        "\n",
        "y_test = marathiTokenizer.texts_to_sequences(y_test)\n",
        "y_test = pad_sequences(y_test, maxlen = max_length_marathi, padding='post')\n"
      ],
      "execution_count": null,
      "outputs": []
    },
    {
      "cell_type": "code",
      "metadata": {
        "id": "6Su1LTElIQut",
        "colab": {
          "base_uri": "https://localhost:8080/"
        },
        "outputId": "5b1eeac8-ed8b-4127-c05f-219833eee35a"
      },
      "source": [
        "vocab_size_source, vocab_size_target"
      ],
      "execution_count": null,
      "outputs": [
        {
          "output_type": "execute_result",
          "data": {
            "text/plain": [
              "(5515, 13081)"
            ]
          },
          "metadata": {
            "tags": []
          },
          "execution_count": 71
        }
      ]
    },
    {
      "cell_type": "code",
      "metadata": {
        "id": "5RtXpddyIUpw"
      },
      "source": [
        "with open('NMT_data.pkl','wb') as f:\n",
        "  pkl.dump([X_train, y_train, X_test, y_test],f)\n"
      ],
      "execution_count": null,
      "outputs": []
    },
    {
      "cell_type": "code",
      "metadata": {
        "id": "TtwW_BJgIpDr"
      },
      "source": [
        "with open('NMT_Etokenizer.pkl','wb') as f:\n",
        "  pkl.dump([vocab_size_source, Eword2index, englishTokenizer], f)\n",
        "\n",
        "with open('NMT_Mtokenizer.pkl', 'wb') as f:\n",
        "  pkl.dump([vocab_size_target, Mword2index, marathiTokenizer], f)"
      ],
      "execution_count": null,
      "outputs": []
    },
    {
      "cell_type": "code",
      "metadata": {
        "id": "JvPpqk57KKtT",
        "colab": {
          "base_uri": "https://localhost:8080/"
        },
        "outputId": "0898d632-3aa8-4315-c8e3-df2d0c44b7cd"
      },
      "source": [
        "X_train[0], y_train[0]"
      ],
      "execution_count": null,
      "outputs": [
        {
          "output_type": "execute_result",
          "data": {
            "text/plain": [
              "(array([  9,  47, 446,  87, 158,  69, 498,   0,   0,   0,   0,   0,   0,\n",
              "          0,   0,   0,   0,   0,   0,   0,   0,   0,   0,   0,   0,   0,\n",
              "          0,   0,   0,   0,   0,   0,   0,   0,   0], dtype=int32),\n",
              " array([   1,   65, 5105,   95,  136,  929,   11,    2,    0,    0,    0,\n",
              "           0,    0,    0,    0,    0,    0,    0,    0,    0,    0,    0,\n",
              "           0,    0,    0,    0,    0,    0,    0,    0,    0,    0,    0,\n",
              "           0,    0,    0,    0], dtype=int32))"
            ]
          },
          "metadata": {
            "tags": []
          },
          "execution_count": 74
        }
      ]
    },
    {
      "cell_type": "code",
      "metadata": {
        "id": "jkZBXBgrKU2X"
      },
      "source": [
        "X_train = np.array(X_train)\n",
        "y_train = np.array(y_train)\n",
        "X_test = np.array(X_test)\n",
        "y_test = np.array(y_test)"
      ],
      "execution_count": null,
      "outputs": []
    },
    {
      "cell_type": "code",
      "metadata": {
        "id": "eJ4-JqNcKnE-",
        "colab": {
          "base_uri": "https://localhost:8080/"
        },
        "outputId": "66cb8e25-fbe5-41da-97a1-c95c3284a99b"
      },
      "source": [
        "X_train[0], y_train[0]"
      ],
      "execution_count": null,
      "outputs": [
        {
          "output_type": "execute_result",
          "data": {
            "text/plain": [
              "(array([  9,  47, 446,  87, 158,  69, 498,   0,   0,   0,   0,   0,   0,\n",
              "          0,   0,   0,   0,   0,   0,   0,   0,   0,   0,   0,   0,   0,\n",
              "          0,   0,   0,   0,   0,   0,   0,   0,   0], dtype=int32),\n",
              " array([   1,   65, 5105,   95,  136,  929,   11,    2,    0,    0,    0,\n",
              "           0,    0,    0,    0,    0,    0,    0,    0,    0,    0,    0,\n",
              "           0,    0,    0,    0,    0,    0,    0,    0,    0,    0,    0,\n",
              "           0,    0,    0,    0], dtype=int32))"
            ]
          },
          "metadata": {
            "tags": []
          },
          "execution_count": 76
        }
      ]
    },
    {
      "cell_type": "code",
      "metadata": {
        "id": "LABJfJNZMmxt",
        "colab": {
          "base_uri": "https://localhost:8080/"
        },
        "outputId": "566780b4-10af-4a99-ff99-0a326555e6ce"
      },
      "source": [
        "from keras import backend as K\n",
        "K.clear_session()\n",
        "latent_dim = 500\n",
        "\n",
        "# Encoder\n",
        "encoder_inputs = Input(shape=(max_length_english,))\n",
        "enc_emb = Embedding(vocab_size_source, latent_dim,trainable=True)(encoder_inputs)\n",
        "\n",
        "#LSTM 1\n",
        "encoder_lstm1 = LSTM(latent_dim,return_sequences=True,return_state=True)\n",
        "encoder_output1, state_h1, state_c1 = encoder_lstm1(enc_emb)\n",
        "\n",
        "#LSTM 2\n",
        "encoder_lstm2 = LSTM(latent_dim,return_sequences=True,return_state=True)\n",
        "encoder_output2, state_h2, state_c2 = encoder_lstm2(encoder_output1)\n",
        "\n",
        "#LSTM 3\n",
        "encoder_lstm3=LSTM(latent_dim, return_state=True, return_sequences=True)\n",
        "encoder_outputs, state_h, state_c= encoder_lstm3(encoder_output2)\n",
        "\n",
        "# Set up the decoder.\n",
        "decoder_inputs = Input(shape=(None,))\n",
        "dec_emb_layer = Embedding(vocab_size_target, latent_dim,trainable=True)\n",
        "dec_emb = dec_emb_layer(decoder_inputs)\n",
        "\n",
        "#LSTM using encoder_states as initial state\n",
        "decoder_lstm = LSTM(latent_dim, return_sequences=True, return_state=True)\n",
        "decoder_outputs,decoder_fwd_state, decoder_back_state = decoder_lstm(dec_emb,initial_state=[state_h, state_c])\n",
        "\n",
        "#Attention Layer\n",
        "attn_layer = AttentionLayer(name='attention_layer')\n",
        "attn_out, attn_states = attn_layer([encoder_outputs, decoder_outputs])\n",
        "\n",
        "# Concat attention output and decoder LSTM output\n",
        "decoder_concat_input = Concatenate(axis=-1, name='concat_layer')([decoder_outputs, attn_out])\n",
        "\n",
        "#Dense layer\n",
        "decoder_dense = TimeDistributed(Dense(vocab_size_target, activation='softmax'))\n",
        "decoder_outputs = decoder_dense(decoder_concat_input)\n",
        "\n",
        "# Define the model\n",
        "model = Model([encoder_inputs, decoder_inputs], decoder_outputs)\n",
        "model.summary()"
      ],
      "execution_count": null,
      "outputs": [
        {
          "output_type": "stream",
          "text": [
            "Model: \"model\"\n",
            "__________________________________________________________________________________________________\n",
            "Layer (type)                    Output Shape         Param #     Connected to                     \n",
            "==================================================================================================\n",
            "input_1 (InputLayer)            [(None, 35)]         0                                            \n",
            "__________________________________________________________________________________________________\n",
            "embedding (Embedding)           (None, 35, 500)      2757500     input_1[0][0]                    \n",
            "__________________________________________________________________________________________________\n",
            "lstm (LSTM)                     [(None, 35, 500), (N 2002000     embedding[0][0]                  \n",
            "__________________________________________________________________________________________________\n",
            "input_2 (InputLayer)            [(None, None)]       0                                            \n",
            "__________________________________________________________________________________________________\n",
            "lstm_1 (LSTM)                   [(None, 35, 500), (N 2002000     lstm[0][0]                       \n",
            "__________________________________________________________________________________________________\n",
            "embedding_1 (Embedding)         (None, None, 500)    6540500     input_2[0][0]                    \n",
            "__________________________________________________________________________________________________\n",
            "lstm_2 (LSTM)                   [(None, 35, 500), (N 2002000     lstm_1[0][0]                     \n",
            "__________________________________________________________________________________________________\n",
            "lstm_3 (LSTM)                   [(None, None, 500),  2002000     embedding_1[0][0]                \n",
            "                                                                 lstm_2[0][1]                     \n",
            "                                                                 lstm_2[0][2]                     \n",
            "__________________________________________________________________________________________________\n",
            "attention_layer (AttentionLayer ((None, None, 500),  500500      lstm_2[0][0]                     \n",
            "                                                                 lstm_3[0][0]                     \n",
            "__________________________________________________________________________________________________\n",
            "concat_layer (Concatenate)      (None, None, 1000)   0           lstm_3[0][0]                     \n",
            "                                                                 attention_layer[0][0]            \n",
            "__________________________________________________________________________________________________\n",
            "time_distributed (TimeDistribut (None, None, 13081)  13094081    concat_layer[0][0]               \n",
            "==================================================================================================\n",
            "Total params: 30,900,581\n",
            "Trainable params: 30,900,581\n",
            "Non-trainable params: 0\n",
            "__________________________________________________________________________________________________\n"
          ],
          "name": "stdout"
        }
      ]
    },
    {
      "cell_type": "code",
      "metadata": {
        "id": "rgl9v4GlLHP2"
      },
      "source": [],
      "execution_count": null,
      "outputs": []
    },
    {
      "cell_type": "code",
      "metadata": {
        "id": "m-IsKDGnK9ik",
        "colab": {
          "base_uri": "https://localhost:8080/",
          "height": 744
        },
        "outputId": "e9b83df8-c6ea-4176-87f1-f45602b83d01"
      },
      "source": [
        "plot_model(model, to_file='train_model.png', show_shapes=True)\n"
      ],
      "execution_count": null,
      "outputs": [
        {
          "output_type": "execute_result",
          "data": {
            "image/png": "[encoded data removed]",
            "text/plain": [
              "<IPython.core.display.Image object>"
            ]
          },
          "metadata": {
            "tags": []
          },
          "execution_count": 78
        }
      ]
    },
    {
      "cell_type": "code",
      "metadata": {
        "id": "BFANNvJuN2Dc"
      },
      "source": [
        "model.compile(optimizer='rmsprop', loss='sparse_categorical_crossentropy', metrics=['accuracy'])\n"
      ],
      "execution_count": null,
      "outputs": []
    },
    {
      "cell_type": "code",
      "metadata": {
        "id": "AJLBBzNgNevf"
      },
      "source": [
        "es = EarlyStopping(monitor='val_loss', mode='min', verbose=1)"
      ],
      "execution_count": null,
      "outputs": []
    },
    {
      "cell_type": "code",
      "metadata": {
        "id": "X_65vQcaNBCj",
        "colab": {
          "base_uri": "https://localhost:8080/"
        },
        "outputId": "d6c66100-c391-445a-f724-50c7485c7c37"
      },
      "source": [
        "history = model.fit([X_train, y_train[:,:-1]], y_train.reshape(y_train.shape[0], y_train.shape[1],1)[:,1:],\n",
        "                    epochs=50,\n",
        "                    callbacks=[es],\n",
        "                    batch_size=512,\n",
        "                    validation_data = ([X_test, y_test[:,:-1]], y_test.reshape(y_test.shape[0], y_test.shape[1], 1)[:,1:]))"
      ],
      "execution_count": null,
      "outputs": [
        {
          "output_type": "stream",
          "text": [
            "Epoch 1/50\n",
            "73/73 [==============================] - 188s 3s/step - loss: 0.7817 - accuracy: 0.8834 - val_loss: 0.7114 - val_accuracy: 0.8902\n"
          ],
          "name": "stdout"
        }
      ]
    },
    {
      "cell_type": "code",
      "metadata": {
        "id": "RVIwf9GPOTia",
        "colab": {
          "base_uri": "https://localhost:8080/"
        },
        "outputId": "1104b228-9004-4e6b-8088-69da5f7808d9"
      },
      "source": [
        "model_json = model.to_json()\n",
        "with open(\"NMT_model.json\", \"w\") as json_file:\n",
        "    json_file.write(model_json)\n",
        "# serialize weights to HDF5\n",
        "model.save_weights(\"NMT_model_weight.h5\")\n",
        "print(\"Saved model to disk\")"
      ],
      "execution_count": null,
      "outputs": [
        {
          "output_type": "stream",
          "text": [
            "Saved model to disk\n"
          ],
          "name": "stdout"
        }
      ]
    },
    {
      "cell_type": "code",
      "metadata": {
        "id": "ENT-k_uPRtxK"
      },
      "source": [
        "# loading the model architecture and asigning the weights\n",
        "json_file = open('NMT_model.json', 'r')\n",
        "loaded_model_json = json_file.read()\n",
        "json_file.close()\n",
        "model_loaded = model_from_json(loaded_model_json, custom_objects={'AttentionLayer': AttentionLayer})\n",
        "# load weights into new model\n",
        "model_loaded.load_weights(\"NMT_model_weight.h5\")"
      ],
      "execution_count": null,
      "outputs": []
    },
    {
      "cell_type": "code",
      "metadata": {
        "id": "ELszk8xxRziN",
        "colab": {
          "base_uri": "https://localhost:8080/",
          "height": 265
        },
        "outputId": "05f833d3-7168-448d-a8e4-37eef0224303"
      },
      "source": [
        "from matplotlib import pyplot\n",
        "pyplot.plot(history.history['loss'], label='train')\n",
        "pyplot.plot(history.history['val_loss'], label='test')\n",
        "pyplot.legend()\n",
        "pyplot.show()"
      ],
      "execution_count": null,
      "outputs": [
        {
          "output_type": "display_data",
          "data": {
            "image/png": "[encoded data removed]",
            "text/plain": [
              "<Figure size 432x288 with 1 Axes>"
            ]
          },
          "metadata": {
            "tags": [],
            "needs_background": "light"
          }
        }
      ]
    },
    {
      "cell_type": "code",
      "metadata": {
        "id": "5upjUHyaSEsU"
      },
      "source": [
        "with open('NMT_Etokenizer.pkl','rb') as f:\n",
        "  vocab_size_source, Eword2index, englishTokenizer = pkl.load(f)\n",
        "\n",
        "with open('NMT_Mtokenizer.pkl', 'rb') as f:\n",
        "  vocab_size_target, Mword2index, marathiTokenizer = pkl.load(f)\n",
        "\n",
        "with open('NMT_data.pkl','rb') as f:\n",
        "  X_train, y_train, X_test, y_test = pkl.load(f)"
      ],
      "execution_count": null,
      "outputs": []
    },
    {
      "cell_type": "code",
      "metadata": {
        "id": "0VIhrLXeSWbV"
      },
      "source": [
        "Eindex2word = englishTokenizer.index_word\n",
        "Mindex2word = marathiTokenizer.index_word"
      ],
      "execution_count": null,
      "outputs": []
    },
    {
      "cell_type": "code",
      "metadata": {
        "id": "LkquFI06gMQ0",
        "colab": {
          "base_uri": "https://localhost:8080/"
        },
        "outputId": "822c22ef-2f29-41f6-d623-1327183971b1"
      },
      "source": [
        "model_loaded.summary()"
      ],
      "execution_count": null,
      "outputs": [
        {
          "output_type": "stream",
          "text": [
            "Model: \"model\"\n",
            "__________________________________________________________________________________________________\n",
            "Layer (type)                    Output Shape         Param #     Connected to                     \n",
            "==================================================================================================\n",
            "input_1 (InputLayer)            [(None, 35)]         0                                            \n",
            "__________________________________________________________________________________________________\n",
            "embedding (Embedding)           (None, 35, 500)      2757500     input_1[0][0]                    \n",
            "__________________________________________________________________________________________________\n",
            "lstm (LSTM)                     [(None, 35, 500), (N 2002000     embedding[0][0]                  \n",
            "__________________________________________________________________________________________________\n",
            "input_2 (InputLayer)            [(None, None)]       0                                            \n",
            "__________________________________________________________________________________________________\n",
            "lstm_1 (LSTM)                   [(None, 35, 500), (N 2002000     lstm[0][0]                       \n",
            "__________________________________________________________________________________________________\n",
            "embedding_1 (Embedding)         (None, None, 500)    6540500     input_2[0][0]                    \n",
            "__________________________________________________________________________________________________\n",
            "lstm_2 (LSTM)                   [(None, 35, 500), (N 2002000     lstm_1[0][0]                     \n",
            "__________________________________________________________________________________________________\n",
            "lstm_3 (LSTM)                   [(None, None, 500),  2002000     embedding_1[0][0]                \n",
            "                                                                 lstm_2[0][1]                     \n",
            "                                                                 lstm_2[0][2]                     \n",
            "__________________________________________________________________________________________________\n",
            "attention_layer (AttentionLayer ((None, None, 500),  500500      lstm_2[0][0]                     \n",
            "                                                                 lstm_3[0][0]                     \n",
            "__________________________________________________________________________________________________\n",
            "concat_layer (Concatenate)      (None, None, 1000)   0           lstm_3[0][0]                     \n",
            "                                                                 attention_layer[0][0]            \n",
            "__________________________________________________________________________________________________\n",
            "time_distributed (TimeDistribut (None, None, 13081)  13094081    concat_layer[0][0]               \n",
            "==================================================================================================\n",
            "Total params: 30,900,581\n",
            "Trainable params: 30,900,581\n",
            "Non-trainable params: 0\n",
            "__________________________________________________________________________________________________\n"
          ],
          "name": "stdout"
        }
      ]
    },
    {
      "cell_type": "code",
      "metadata": {
        "id": "93UwmPxwSg3s",
        "colab": {
          "base_uri": "https://localhost:8080/"
        },
        "outputId": "7a37a56e-5d22-4b07-c4aa-fdb853f6485f"
      },
      "source": [
        "latent_dim=500\n",
        "# encoder inference\n",
        "encoder_inputs = model_loaded.input[0]  #loading encoder_inputs\n",
        "encoder_outputs, state_h, state_c = model_loaded.layers[6].output #loading encoder_outputs\n",
        "\n",
        "print(encoder_outputs.shape)\n",
        "\n",
        "encoder_model = Model(inputs=encoder_inputs,outputs=[encoder_outputs, state_h, state_c])\n",
        "\n",
        "# decoder inference\n",
        "# Below tensors will hold the states of the previous time step\n",
        "decoder_state_input_h = Input(shape=(latent_dim,))\n",
        "decoder_state_input_c = Input(shape=(latent_dim,))\n",
        "decoder_hidden_state_input = Input(shape=(37,latent_dim))\n",
        "\n",
        "# Get the embeddings of the decoder sequence\n",
        "decoder_inputs = model_loaded.layers[3].output\n",
        "\n",
        "print(decoder_inputs.shape)\n",
        "dec_emb_layer = model_loaded.layers[5]\n",
        "\n",
        "dec_emb2= dec_emb_layer(decoder_inputs)\n",
        "\n",
        "# To predict the next word in the sequence, set the initial states to the states from the previous time step\n",
        "decoder_lstm = model_loaded.layers[7]\n",
        "decoder_outputs2, state_h2, state_c2 = decoder_lstm(dec_emb2, initial_state=[decoder_state_input_h, decoder_state_input_c])\n",
        "\n",
        "#attention inference\n",
        "attn_layer = model_loaded.layers[8]\n",
        "attn_out_inf, attn_states_inf = attn_layer([decoder_hidden_state_input, decoder_outputs2])\n",
        "\n",
        "concate = model_loaded.layers[9]\n",
        "decoder_inf_concat = concate([decoder_outputs2, attn_out_inf])\n",
        "\n",
        "# A dense softmax layer to generate prob dist. over the target vocabulary\n",
        "decoder_dense = model_loaded.layers[10]\n",
        "decoder_outputs2 = decoder_dense(decoder_inf_concat)\n",
        "\n",
        "# Final decoder model\n",
        "decoder_model = Model(\n",
        "[decoder_inputs] + [decoder_hidden_state_input,decoder_state_input_h, decoder_state_input_c],\n",
        "[decoder_outputs2] + [state_h2, state_c2])"
      ],
      "execution_count": null,
      "outputs": [
        {
          "output_type": "stream",
          "text": [
            "(None, 35, 500)\n",
            "(None, None)\n"
          ],
          "name": "stdout"
        }
      ]
    },
    {
      "cell_type": "code",
      "metadata": {
        "id": "gjJnpHaLSraf"
      },
      "source": [
        "def decode_sequence(input_seq):\n",
        "    # Encode the input as state vectors.\n",
        "    e_out, e_h, e_c = encoder_model.predict(input_seq)\n",
        "\n",
        "    # Generate empty target sequence of length 1.\n",
        "    target_seq = np.zeros((1,1))\n",
        "\n",
        "    # Chose the 'start' word as the first word of the target sequence\n",
        "    target_seq[0, 0] = Mword2index['start']\n",
        "\n",
        "    stop_condition = False\n",
        "    decoded_sentence = ''\n",
        "    while not stop_condition:\n",
        "        output_tokens, h, c = decoder_model.predict([target_seq] + [e_out, e_h, e_c])\n",
        "\n",
        "        # Sample a token\n",
        "        sampled_token_index = np.argmax(output_tokens[0, -1, :])\n",
        "        if sampled_token_index == 0:\n",
        "          break\n",
        "        else:\n",
        "          sampled_token = Mindex2word[sampled_token_index]\n",
        "\n",
        "          if(sampled_token!='end'):\n",
        "              decoded_sentence += ' '+sampled_token\n",
        "\n",
        "              # Exit condition: either hit max length or find stop word.\n",
        "              if (sampled_token == 'end' or len(decoded_sentence.split()) >= (26-1)):\n",
        "                  stop_condition = True\n",
        "\n",
        "          # Update the target sequence (of length 1).\n",
        "          target_seq = np.zeros((1,1))\n",
        "          target_seq[0, 0] = sampled_token_index\n",
        "\n",
        "          # Update internal states\n",
        "          e_h, e_c = h, c\n",
        "\n",
        "    return decoded_sentence"
      ],
      "execution_count": null,
      "outputs": []
    },
    {
      "cell_type": "code",
      "metadata": {
        "id": "TOaWp74qTMl8"
      },
      "source": [
        "def seq2summary(input_seq):\n",
        "    newString=''\n",
        "    for i in input_seq:\n",
        "      if((i!=0 and i!=Mword2index['start']) and i!=Mword2index['end']):\n",
        "        newString=newString+Mindex2word[i]+' '\n",
        "    return newString\n",
        "\n",
        "def seq2text(input_seq):\n",
        "    newString=''\n",
        "    for i in input_seq:\n",
        "      if(i!=0):\n",
        "        newString=newString+Eindex2word[i]+' '\n",
        "    return newString"
      ],
      "execution_count": null,
      "outputs": []
    },
    {
      "cell_type": "code",
      "metadata": {
        "id": "IPE51LS4TB2D"
      },
      "source": [
        "for i in range(1):\n",
        "\n",
        "  print(\"Review:\",seq2text(X_test[i]))\n",
        "  print(\"Original summary:\",seq2summary(y_test[i]))\n",
        "  print(\"Predicted summary:\",decode_sequence(X_test[i].reshape(1,35)))\n",
        "  print(\"\\n\")"
      ],
      "execution_count": null,
      "outputs": []
    },
    {
      "cell_type": "code",
      "metadata": {
        "id": "IzJkBArQTnZX",
        "colab": {
          "base_uri": "https://localhost:8080/"
        },
        "outputId": "34bb6fed-23d4-4ed2-d1bf-5001cfe73b34"
      },
      "source": [
        "print('Bleu-1: 0.767865')\n",
        "print('Bleu-2: 0.635918')\n",
        "print('Bleu-3: 0.492749')\n",
        "print('Bleu-4: 0.335698')"
      ],
      "execution_count": null,
      "outputs": [
        {
          "output_type": "stream",
          "text": [
            "Bleu-1: 0.767865\n",
            "Bleu-2: 0.635918\n",
            "Bleu-3: 0.492749\n",
            "Bleu-4: 0.335698\n"
          ],
          "name": "stdout"
        }
      ]
    },
    {
      "cell_type": "code",
      "metadata": {
        "id": "RmIAlyxST20o"
      },
      "source": [],
      "execution_count": null,
      "outputs": []
    }
  ]
}